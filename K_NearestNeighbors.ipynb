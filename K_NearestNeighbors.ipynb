{
 "cells": [
  {
   "cell_type": "markdown",
   "id": "9842d35f",
   "metadata": {},
   "source": [
    "## Week 5 Workshop: Regression using Non-Parametric Models"
   ]
  },
  {
   "cell_type": "code",
   "execution_count": null,
   "id": "f300e3f0",
   "metadata": {},
   "outputs": [],
   "source": [
    "from sklearn.datasets import load_iris\n",
    "from sklearn.model_selection import train_test_split\n",
    "from sklearn.neighbors import KNeighborsClassifier\n",
    "from sklearn.metrics import accuracy_score\n",
    "\n"
   ]
  },
  {
   "cell_type": "code",
   "execution_count": null,
   "id": "2b63d508",
   "metadata": {},
   "outputs": [],
   "source": [
    "# Sample use case: Classifying Iris flower species using K Nearest Neighbors (KNN)\n",
    "\n",
    "# Load the Iris dataset\n",
    "iris = load_iris()\n",
    "X = iris.data  # Features: sepal length, sepal width, petal length, petal width\n",
    "y = iris.target  # Labels: 0 = setosa, 1 = versicolor, 2 = virginica\n",
    "\n"
   ]
  },
  {
   "cell_type": "code",
   "execution_count": null,
   "id": "0cf0ccdf",
   "metadata": {},
   "outputs": [],
   "source": [
    "# Split the data into training and testing sets\n",
    "# test_size=0.2 means 20% of the data will be used for testing and 80% for training\n",
    "# random_state=42 ensures reproducibility of the train/test split by setting a fixed seed for the random number generator\n",
    "X_train, X_test, y_train, y_test = train_test_split(X, y, test_size=0.2, random_state=42)\n",
    "\n",
    "# Create a KNN classifier with k=3\n",
    "knn = KNeighborsClassifier(n_neighbors=3)\n",
    "\n"
   ]
  },
  {
   "cell_type": "code",
   "execution_count": null,
   "id": "3ec683b9",
   "metadata": {},
   "outputs": [],
   "source": [
    "# Train the classifier\n",
    "knn.fit(X_train, y_train)\n",
    "\n"
   ]
  },
  {
   "cell_type": "code",
   "execution_count": null,
   "id": "3516113a",
   "metadata": {},
   "outputs": [],
   "source": [
    "import matplotlib.pyplot as plt\n",
    "\n",
    "# Use the first two features for visualization\n",
    "plt.figure(figsize=(8, 6))\n",
    "for target, color, label in zip([0, 1, 2], ['red', 'green', 'blue'], iris.target_names):\n",
    "    plt.scatter(X[y == target, 0], X[y == target, 1], c=color, label=label, edgecolor='k', s=40)\n",
    "plt.xlabel(iris.feature_names[0])\n",
    "plt.ylabel(iris.feature_names[1])\n",
    "plt.title(\"Iris Dataset - First Two Features\")\n",
    "plt.legend()\n",
    "plt.show()"
   ]
  },
  {
   "cell_type": "code",
   "execution_count": null,
   "id": "b26b3847",
   "metadata": {},
   "outputs": [],
   "source": [
    "# Predict the species for the test set\n",
    "y_pred = knn.predict(X_test)\n",
    "\n",
    "# Evaluate the accuracy\n",
    "accuracy = accuracy_score(y_test, y_pred)\n",
    "print(\"KNN Classifier for Iris Dataset\")\n",
    "sample_idx = 10\n",
    "print(\"Sample features:\", X_test[sample_idx])\n",
    "print(\"True label:\", y_test[sample_idx])\n",
    "print(\"Predicted label:\", y_pred[sample_idx])\n",
    "#print(\"Test data sample:\", X_test)\n",
    "#print(\"Test data predictions:\", y_pred)\n",
    "print(f\"Test set accuracy: {accuracy:.2f}\")\n",
    "\n",
    "# Explanation:\n",
    "# KNN classifies a new data point by looking at the 'k' closest labeled data points in the training set.\n",
    "# The majority label among these neighbors is assigned to the new point.\n",
    "# In this example, we use KNN to classify iris flowers based on their features."
   ]
  },
  {
   "cell_type": "code",
   "execution_count": null,
   "id": "ec92c356",
   "metadata": {},
   "outputs": [],
   "source": [
    "# Visualize the new data point (from X_test[sample_idx]) in the context of the entire dataset\n",
    "plt.figure(figsize=(8, 6))\n",
    "for target, color, label in zip([0, 1, 2], ['red', 'green', 'blue'], iris.target_names):\n",
    "    plt.scatter(X[y == target, 0], X[y == target, 1], c=color, label=label, edgecolor='k', s=40)\n",
    "\n",
    "# Plot the new data point\n",
    "plt.scatter(X_test[sample_idx, 0], X_test[sample_idx, 1], \n",
    "            c='yellow', edgecolor='black', s=200, marker='*', label='New Data Point')\n",
    "\n",
    "# Annotate with predicted class\n",
    "predicted_label = y_pred[sample_idx]\n",
    "plt.text(X_test[sample_idx, 0]+0.1, X_test[sample_idx, 1], \n",
    "         f'Predicted: {iris.target_names[predicted_label]}', fontsize=12, color='black')\n",
    "\n",
    "plt.xlabel(iris.feature_names[0])\n",
    "plt.ylabel(iris.feature_names[1])\n",
    "plt.title(\"Iris Dataset with New Data Point Highlighted\")\n",
    "plt.legend()\n",
    "plt.show()"
   ]
  },
  {
   "cell_type": "markdown",
   "id": "5ef4a5be",
   "metadata": {},
   "source": [
    "## Challenge: Implement a Regression based on Decision Trees\n",
    "\n",
    "- Use the same data set (Iris)\n",
    "- Choose your features (one, two, all...)\n",
    "- Train, test and visualize\n"
   ]
  },
  {
   "cell_type": "code",
   "execution_count": null,
   "id": "ab81e203",
   "metadata": {},
   "outputs": [],
   "source": [
    "from sklearn.tree import DecisionTreeRegressor\n",
    "from sklearn.metrics import mean_squared_error\n",
    "\n",
    "# For regression, let's predict petal length (feature index 2) using the other features\n",
    "y_reg = X[:, 2]  # Petal length\n",
    "X_reg = X[:, [0, 1, 3]]  # Use all features except petal length\n",
    "\n",
    "# Split into train and test sets (reuse train_test_split if available)\n",
    "X_reg_train, X_reg_test, y_reg_train, y_reg_test = train_test_split(X_reg, y_reg, test_size=0.2, random_state=42)\n",
    "\n",
    "# Create and train the Decision Tree Regressor\n",
    "dt_reg = DecisionTreeRegressor(random_state=42)\n",
    "dt_reg.fit(X_reg_train, y_reg_train)\n",
    "\n",
    "# Predict on the test set\n",
    "y_reg_pred = dt_reg.predict(X_reg_test)\n",
    "\n",
    "# Evaluate the regression performance\n",
    "mse = mean_squared_error(y_reg_test, y_reg_pred)\n",
    "print(f\"Decision Tree Regression MSE (Petal Length): {mse:.2f}\")"
   ]
  }
 ],
 "metadata": {
  "kernelspec": {
   "display_name": ".venv",
   "language": "python",
   "name": "python3"
  },
  "language_info": {
   "codemirror_mode": {
    "name": "ipython",
    "version": 3
   },
   "file_extension": ".py",
   "mimetype": "text/x-python",
   "name": "python",
   "nbconvert_exporter": "python",
   "pygments_lexer": "ipython3",
   "version": "3.12.1"
  }
 },
 "nbformat": 4,
 "nbformat_minor": 5
}
